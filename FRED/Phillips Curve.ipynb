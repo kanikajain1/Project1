{
 "cells": [
  {
   "cell_type": "code",
   "execution_count": null,
   "metadata": {},
   "outputs": [],
   "source": [
    "import numpy as np\n",
    "import pandas as pd\n",
    "import requests\n",
    "from config import api_key\n",
    "import time\n",
    "from us import states\n",
    "from scipy.stats import linregress\n",
    "from matplotlib import pyplot as plt\n",
    "from fredapi import Fred\n",
    "fred = Fred(api_key='8d9168f04897da41e439475a2f472b3f')\n"
   ]
  },
  {
   "cell_type": "code",
   "execution_count": null,
   "metadata": {
    "scrolled": false
   },
   "outputs": [],
   "source": [
    "inf_path=\"inflation.csv\"\n",
    "\n",
    "inflation = pd.read_csv(inf_path)\n",
    "\n",
    "\n",
    "#inflation.index.name =\"Date\"\n",
    "#inflation.name = \"INF\"\n",
    "\n",
    "df3 = pd.DataFrame(inflation)\n",
    "\n",
    "df3.head()\n",
    "#df3.set_index('Date', inplace=True)\n",
    "\n",
    "\n",
    "#df3[\"Date\"]=df3[\"Date\"].astype(float)\n",
    "\n",
    "\n",
    "#data1.index.name = 'Date'\n",
    "#data1.name = 'GDP'\n",
    "#data1.head()\n",
    "\n",
    "#df1 = pd.DataFrame(data1)\n",
    "\n",
    "#df1.head()\n",
    "\n",
    "#for i in range(0, len(df3.columns)):\n",
    "    #df3.iloc[:,i]=pd.to_numeric(df3.iloc[:,i], errors =\"ignore\")"
   ]
  },
  {
   "cell_type": "code",
   "execution_count": null,
   "metadata": {},
   "outputs": [],
   "source": [
    "print(df3.dtypes)"
   ]
  },
  {
   "cell_type": "code",
   "execution_count": null,
   "metadata": {
    "scrolled": true
   },
   "outputs": [],
   "source": [
    "data1 = fred.get_series('GDPC1',frequency = 'q')\n",
    "print(data1.head())\n",
    "print(type(data1))"
   ]
  },
  {
   "cell_type": "code",
   "execution_count": null,
   "metadata": {},
   "outputs": [],
   "source": [
    "print(data1.dtypes)"
   ]
  },
  {
   "cell_type": "code",
   "execution_count": null,
   "metadata": {},
   "outputs": [],
   "source": [
    "#data1.index.name = 'Date'\n",
    "#data1.name = 'GDP'\n",
    "#data1.head()\n",
    "\n",
    "df1 = pd.DataFrame(data1,columns=['date','GDP'])\n",
    "print(df1)\n",
    "\n",
    "\n",
    "\n"
   ]
  },
  {
   "cell_type": "code",
   "execution_count": null,
   "metadata": {},
   "outputs": [],
   "source": [
    "data2 = fred.get_series('UNRATE',frequency = 'q')\n",
    "data2.head()"
   ]
  },
  {
   "cell_type": "code",
   "execution_count": null,
   "metadata": {},
   "outputs": [],
   "source": [
    "data2.index.name = 'Date'\n",
    "data2.name = 'UNEM'\n",
    "data2.head()\n",
    "\n",
    "df2 = pd.DataFrame(data2)\n",
    "\n",
    "df2.reset_index()\n",
    "\n",
    "df2.head()\n"
   ]
  },
  {
   "cell_type": "code",
   "execution_count": null,
   "metadata": {},
   "outputs": [],
   "source": [
    "merge_df = pd.merge(df1, df3, on=\"Date\")\n",
    "head(merge_df)\n",
    "\n",
    "#merge_df[\"Date\"]= merge_df[\"Date\"].astype(str) "
   ]
  },
  {
   "cell_type": "code",
   "execution_count": null,
   "metadata": {},
   "outputs": [],
   "source": [
    "#final = pd.concat([merge_df, df3], axis=1, sort=False)\n",
    "\n",
    "#final\n",
    "\n",
    "full_data = pd.merge(merge_df, df3, on=\"Date\")\n",
    "\n",
    "\n",
    "#full_data"
   ]
  },
  {
   "cell_type": "code",
   "execution_count": null,
   "metadata": {},
   "outputs": [],
   "source": [
    "x_values = test_df['INF']\n",
    "y_values = test_df['UNEM']\n",
    "(slope, intercept, rvalue, pvalue, stderr) = linregress(x_values, y_values)\n",
    "regress_values = x_values * slope + intercept\n",
    "line_eq = \"y = \" + str(round(slope,2)) + \"x + \" + str(round(intercept,2))\n",
    "plt.scatter(x_values,y_values)\n",
    "plt.plot(x_values,regress_values,\"r-\")\n",
    "plt.annotate(line_eq,(6,10),fontsize=15,color=\"red\")\n",
    "plt.xlabel('INF')\n",
    "plt.ylabel('UNEM')\n",
    "plt.show()"
   ]
  },
  {
   "cell_type": "code",
   "execution_count": null,
   "metadata": {},
   "outputs": [],
   "source": [
    "model=linregress(full_data['CPI'],full_data['UNEM'])\n",
    "model"
   ]
  },
  {
   "cell_type": "code",
   "execution_count": null,
   "metadata": {},
   "outputs": [],
   "source": []
  }
 ],
 "metadata": {
  "kernelspec": {
   "display_name": "Python 3",
   "language": "python",
   "name": "python3"
  },
  "language_info": {
   "codemirror_mode": {
    "name": "ipython",
    "version": 3
   },
   "file_extension": ".py",
   "mimetype": "text/x-python",
   "name": "python",
   "nbconvert_exporter": "python",
   "pygments_lexer": "ipython3",
   "version": "3.7.6"
  }
 },
 "nbformat": 4,
 "nbformat_minor": 4
}
